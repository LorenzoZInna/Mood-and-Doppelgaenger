{
  "cells": [
    {
      "cell_type": "code",
      "execution_count": 12,
      "metadata": {
        "colab": {
          "base_uri": "https://localhost:8080/"
        },
        "id": "EcfaxBnheA-C",
        "outputId": "849ca0f4-6eda-4716-edc0-2adaa29d2445"
      },
      "outputs": [
        {
          "name": "stdout",
          "output_type": "stream",
          "text": [
            "Requirement already satisfied: spotipy in /home/lorezinn/.pyenv/versions/3.10.6/envs/lewagon/lib/python3.10/site-packages (2.23.0)\n",
            "Requirement already satisfied: redis>=3.5.3 in /home/lorezinn/.pyenv/versions/3.10.6/envs/lewagon/lib/python3.10/site-packages (from spotipy) (5.0.3)\n",
            "Requirement already satisfied: requests>=2.25.0 in /home/lorezinn/.pyenv/versions/3.10.6/envs/lewagon/lib/python3.10/site-packages (from spotipy) (2.28.1)\n",
            "Requirement already satisfied: six>=1.15.0 in /home/lorezinn/.pyenv/versions/3.10.6/envs/lewagon/lib/python3.10/site-packages (from spotipy) (1.16.0)\n",
            "Requirement already satisfied: urllib3>=1.26.0 in /home/lorezinn/.pyenv/versions/3.10.6/envs/lewagon/lib/python3.10/site-packages (from spotipy) (1.26.12)\n",
            "Requirement already satisfied: async-timeout>=4.0.3 in /home/lorezinn/.pyenv/versions/3.10.6/envs/lewagon/lib/python3.10/site-packages (from redis>=3.5.3->spotipy) (4.0.3)\n",
            "Requirement already satisfied: charset-normalizer<3,>=2 in /home/lorezinn/.pyenv/versions/3.10.6/envs/lewagon/lib/python3.10/site-packages (from requests>=2.25.0->spotipy) (2.1.1)\n",
            "Requirement already satisfied: idna<4,>=2.5 in /home/lorezinn/.pyenv/versions/3.10.6/envs/lewagon/lib/python3.10/site-packages (from requests>=2.25.0->spotipy) (3.4)\n",
            "Requirement already satisfied: certifi>=2017.4.17 in /home/lorezinn/.pyenv/versions/3.10.6/envs/lewagon/lib/python3.10/site-packages (from requests>=2.25.0->spotipy) (2022.9.24)\n"
          ]
        }
      ],
      "source": [
        "#we need the spotipy package to run this notebook\n",
        "!pip install spotipy"
      ]
    },
    {
      "cell_type": "code",
      "execution_count": 2,
      "metadata": {
        "id": "bZaaojnQLdm3"
      },
      "outputs": [],
      "source": [
        "import spotipy\n",
        "from spotipy import Spotify\n",
        "from spotipy.oauth2 import SpotifyOAuth #needed for user authentication\n",
        "from dotenv import load_dotenv\n",
        "import os\n",
        "\n",
        "# Load environment variables from .env file\n",
        "load_dotenv()\n",
        "\n",
        "# Access environment variables\n",
        "client_id = os.getenv(\"CLIENT_ID_SPOTIFY\") #must be saved in .env file before production\n",
        "client_secret =  os.getenv(\"CLIENT_SECRET_SPOTIFY\")#must be saved in .env file before production\n",
        "\n",
        "\n",
        "#we choose one of the available ports in the app\n",
        "REDIRECT_URI = 'http://localhost:5000/callback'\n",
        "\n",
        "#defines the permissions of the app - I selected all\n",
        "#as I did not want to have permissions denied.\n",
        "#I could go and trim it a bit if needed.\n",
        "\n",
        "# Initialize Spotipy with user authorization\n",
        "scope = 'playlist-modify-public playlist-read-private playlist-read-collaborative playlist-modify-private user-read-playback-state user-modify-playback-state user-read-currently-playing user-read-email user-read-currently-playing app-remote-control streaming '\n",
        "\n",
        "\n",
        "\n",
        "\n",
        "sp_auth = SpotifyOAuth(client_id = client_id,\n",
        "                       client_secret= client_secret,\n",
        "                       redirect_uri=REDIRECT_URI,\n",
        "                       scope=scope)\n",
        "\n",
        "sp = spotipy.Spotify(auth_manager=sp_auth)\n"
      ]
    },
    {
      "cell_type": "code",
      "execution_count": 3,
      "metadata": {
        "id": "d1KbgTzj4ZO8"
      },
      "outputs": [
        {
          "data": {
            "text/plain": [
              "{'album': {'album_type': 'album',\n",
              "  'artists': [{'external_urls': {'spotify': 'https://open.spotify.com/artist/0k17h0D3J5VfsdmQ1iZtE9'},\n",
              "    'href': 'https://api.spotify.com/v1/artists/0k17h0D3J5VfsdmQ1iZtE9',\n",
              "    'id': '0k17h0D3J5VfsdmQ1iZtE9',\n",
              "    'name': 'Pink Floyd',\n",
              "    'type': 'artist',\n",
              "    'uri': 'spotify:artist:0k17h0D3J5VfsdmQ1iZtE9'}],\n",
              "  'available_markets': [],\n",
              "  'external_urls': {'spotify': 'https://open.spotify.com/album/3a0UOgDWw2pTajw85QPMiz'},\n",
              "  'href': 'https://api.spotify.com/v1/albums/3a0UOgDWw2pTajw85QPMiz',\n",
              "  'id': '3a0UOgDWw2pTajw85QPMiz',\n",
              "  'images': [{'height': 640,\n",
              "    'url': 'https://i.scdn.co/image/ab67616d0000b27305d4eec40a828850aa8cd2f7',\n",
              "    'width': 640},\n",
              "   {'height': 300,\n",
              "    'url': 'https://i.scdn.co/image/ab67616d00001e0205d4eec40a828850aa8cd2f7',\n",
              "    'width': 300},\n",
              "   {'height': 64,\n",
              "    'url': 'https://i.scdn.co/image/ab67616d0000485105d4eec40a828850aa8cd2f7',\n",
              "    'width': 64}],\n",
              "  'name': 'The Dark Side Of The Moon (2011 Remastered Version)',\n",
              "  'release_date': '1973-03-16',\n",
              "  'release_date_precision': 'day',\n",
              "  'total_tracks': 20,\n",
              "  'type': 'album',\n",
              "  'uri': 'spotify:album:3a0UOgDWw2pTajw85QPMiz'},\n",
              " 'artists': [{'external_urls': {'spotify': 'https://open.spotify.com/artist/0k17h0D3J5VfsdmQ1iZtE9'},\n",
              "   'href': 'https://api.spotify.com/v1/artists/0k17h0D3J5VfsdmQ1iZtE9',\n",
              "   'id': '0k17h0D3J5VfsdmQ1iZtE9',\n",
              "   'name': 'Pink Floyd',\n",
              "   'type': 'artist',\n",
              "   'uri': 'spotify:artist:0k17h0D3J5VfsdmQ1iZtE9'}],\n",
              " 'available_markets': [],\n",
              " 'disc_number': 1,\n",
              " 'duration_ms': 65314,\n",
              " 'explicit': False,\n",
              " 'external_ids': {'isrc': 'GBN9Y1100076'},\n",
              " 'external_urls': {'spotify': 'https://open.spotify.com/track/6rqhFgbbKwnb9MLmUQDhG6'},\n",
              " 'href': 'https://api.spotify.com/v1/tracks/6rqhFgbbKwnb9MLmUQDhG6',\n",
              " 'id': '6rqhFgbbKwnb9MLmUQDhG6',\n",
              " 'is_local': False,\n",
              " 'name': 'Speak To Me - 2011 Remastered Version',\n",
              " 'popularity': 0,\n",
              " 'preview_url': None,\n",
              " 'track_number': 1,\n",
              " 'type': 'track',\n",
              " 'uri': 'spotify:track:6rqhFgbbKwnb9MLmUQDhG6'}"
            ]
          },
          "execution_count": 3,
          "metadata": {},
          "output_type": "execute_result"
        }
      ],
      "source": [
        "\n",
        "\n",
        "\"\"\"VITAL PART!!!! Integrate track uri from the rest of the project\"\"\"\n",
        "track_id ='6rqhFgbbKwnb9MLmUQDhG6'# Replace this with the URI of the track you want to play\n",
        "\"\"\"\"\"\"\n",
        "\n",
        "\n",
        "\n",
        "# Start playback with the list of URIs\n",
        "\n",
        "track_info=sp.track(track_id)\n",
        "#!!! IMPORTANT!!! NEEDS A LIST OF URIS TO PLAY!!! (must have more than 1)\n",
        "track_uris = [track_info['uri'],\n",
        "              track_info['uri']]\n",
        "track_info"
      ]
    },
    {
      "cell_type": "code",
      "execution_count": null,
      "metadata": {},
      "outputs": [
        {
          "data": {
            "text/plain": [
              "{'display_name': 'Lorzinna',\n",
              " 'external_urls': {'spotify': 'https://open.spotify.com/user/312yptxfeo7lzzgqbxslai77sf4m'},\n",
              " 'href': 'https://api.spotify.com/v1/users/312yptxfeo7lzzgqbxslai77sf4m',\n",
              " 'id': '312yptxfeo7lzzgqbxslai77sf4m',\n",
              " 'images': [],\n",
              " 'type': 'user',\n",
              " 'uri': 'spotify:user:312yptxfeo7lzzgqbxslai77sf4m',\n",
              " 'followers': {'href': None, 'total': 0},\n",
              " 'email': 'lorzinna@gmail.com'}"
            ]
          },
          "execution_count": 18,
          "metadata": {},
          "output_type": "execute_result"
        }
      ],
      "source": []
    },
    {
      "cell_type": "code",
      "execution_count": null,
      "metadata": {},
      "outputs": [
        {
          "ename": "SpotifyOauthError",
          "evalue": "error: invalid_client, error_description: Invalid client",
          "output_type": "error",
          "traceback": [
            "\u001b[0;31m---------------------------------------------------------------------------\u001b[0m",
            "\u001b[0;31mHTTPError\u001b[0m                                 Traceback (most recent call last)",
            "File \u001b[0;32m~/.pyenv/versions/lewagon/lib/python3.10/site-packages/spotipy/oauth2.py:588\u001b[0m, in \u001b[0;36mSpotifyOAuth.refresh_access_token\u001b[0;34m(self, refresh_token)\u001b[0m\n\u001b[1;32m    581\u001b[0m response \u001b[38;5;241m=\u001b[39m \u001b[38;5;28mself\u001b[39m\u001b[38;5;241m.\u001b[39m_session\u001b[38;5;241m.\u001b[39mpost(\n\u001b[1;32m    582\u001b[0m     \u001b[38;5;28mself\u001b[39m\u001b[38;5;241m.\u001b[39mOAUTH_TOKEN_URL,\n\u001b[1;32m    583\u001b[0m     data\u001b[38;5;241m=\u001b[39mpayload,\n\u001b[0;32m   (...)\u001b[0m\n\u001b[1;32m    586\u001b[0m     timeout\u001b[38;5;241m=\u001b[39m\u001b[38;5;28mself\u001b[39m\u001b[38;5;241m.\u001b[39mrequests_timeout,\n\u001b[1;32m    587\u001b[0m )\n\u001b[0;32m--> 588\u001b[0m \u001b[43mresponse\u001b[49m\u001b[38;5;241;43m.\u001b[39;49m\u001b[43mraise_for_status\u001b[49m\u001b[43m(\u001b[49m\u001b[43m)\u001b[49m\n\u001b[1;32m    589\u001b[0m token_info \u001b[38;5;241m=\u001b[39m response\u001b[38;5;241m.\u001b[39mjson()\n",
            "File \u001b[0;32m~/.pyenv/versions/lewagon/lib/python3.10/site-packages/requests/models.py:1021\u001b[0m, in \u001b[0;36mResponse.raise_for_status\u001b[0;34m(self)\u001b[0m\n\u001b[1;32m   1020\u001b[0m \u001b[38;5;28;01mif\u001b[39;00m http_error_msg:\n\u001b[0;32m-> 1021\u001b[0m     \u001b[38;5;28;01mraise\u001b[39;00m HTTPError(http_error_msg, response\u001b[38;5;241m=\u001b[39m\u001b[38;5;28mself\u001b[39m)\n",
            "\u001b[0;31mHTTPError\u001b[0m: 400 Client Error: Bad Request for url: https://accounts.spotify.com/api/token",
            "\nDuring handling of the above exception, another exception occurred:\n",
            "\u001b[0;31mSpotifyOauthError\u001b[0m                         Traceback (most recent call last)",
            "Cell \u001b[0;32mIn [11], line 3\u001b[0m\n\u001b[1;32m      1\u001b[0m \u001b[38;5;66;03m# Retrieve a list of available devices\u001b[39;00m\n\u001b[1;32m      2\u001b[0m \u001b[38;5;28;01mfrom\u001b[39;00m \u001b[38;5;21;01mtime\u001b[39;00m \u001b[38;5;28;01mimport\u001b[39;00m sleep \u001b[38;5;28;01mas\u001b[39;00m wait\n\u001b[0;32m----> 3\u001b[0m devices \u001b[38;5;241m=\u001b[39m \u001b[43msp\u001b[49m\u001b[38;5;241;43m.\u001b[39;49m\u001b[43mdevices\u001b[49m\u001b[43m(\u001b[49m\u001b[43m)\u001b[49m\n\u001b[1;32m      4\u001b[0m \u001b[38;5;28mprint\u001b[39m(devices)\n\u001b[1;32m      5\u001b[0m \u001b[38;5;66;03m# If you are playing on local Spotify app on your PC:\u001b[39;00m\n",
            "File \u001b[0;32m~/.pyenv/versions/lewagon/lib/python3.10/site-packages/spotipy/client.py:1748\u001b[0m, in \u001b[0;36mSpotify.devices\u001b[0;34m(self)\u001b[0m\n\u001b[1;32m   1745\u001b[0m \u001b[38;5;28;01mdef\u001b[39;00m \u001b[38;5;21mdevices\u001b[39m(\u001b[38;5;28mself\u001b[39m):\n\u001b[1;32m   1746\u001b[0m     \u001b[38;5;124;03m\"\"\" Get a list of user's available devices.\u001b[39;00m\n\u001b[1;32m   1747\u001b[0m \u001b[38;5;124;03m    \"\"\"\u001b[39;00m\n\u001b[0;32m-> 1748\u001b[0m     \u001b[38;5;28;01mreturn\u001b[39;00m \u001b[38;5;28;43mself\u001b[39;49m\u001b[38;5;241;43m.\u001b[39;49m\u001b[43m_get\u001b[49m\u001b[43m(\u001b[49m\u001b[38;5;124;43m\"\u001b[39;49m\u001b[38;5;124;43mme/player/devices\u001b[39;49m\u001b[38;5;124;43m\"\u001b[39;49m\u001b[43m)\u001b[49m\n",
            "File \u001b[0;32m~/.pyenv/versions/lewagon/lib/python3.10/site-packages/spotipy/client.py:323\u001b[0m, in \u001b[0;36mSpotify._get\u001b[0;34m(self, url, args, payload, **kwargs)\u001b[0m\n\u001b[1;32m    320\u001b[0m \u001b[38;5;28;01mif\u001b[39;00m args:\n\u001b[1;32m    321\u001b[0m     kwargs\u001b[38;5;241m.\u001b[39mupdate(args)\n\u001b[0;32m--> 323\u001b[0m \u001b[38;5;28;01mreturn\u001b[39;00m \u001b[38;5;28;43mself\u001b[39;49m\u001b[38;5;241;43m.\u001b[39;49m\u001b[43m_internal_call\u001b[49m\u001b[43m(\u001b[49m\u001b[38;5;124;43m\"\u001b[39;49m\u001b[38;5;124;43mGET\u001b[39;49m\u001b[38;5;124;43m\"\u001b[39;49m\u001b[43m,\u001b[49m\u001b[43m \u001b[49m\u001b[43murl\u001b[49m\u001b[43m,\u001b[49m\u001b[43m \u001b[49m\u001b[43mpayload\u001b[49m\u001b[43m,\u001b[49m\u001b[43m \u001b[49m\u001b[43mkwargs\u001b[49m\u001b[43m)\u001b[49m\n",
            "File \u001b[0;32m~/.pyenv/versions/lewagon/lib/python3.10/site-packages/spotipy/client.py:247\u001b[0m, in \u001b[0;36mSpotify._internal_call\u001b[0;34m(self, method, url, payload, params)\u001b[0m\n\u001b[1;32m    245\u001b[0m \u001b[38;5;28;01mif\u001b[39;00m \u001b[38;5;129;01mnot\u001b[39;00m url\u001b[38;5;241m.\u001b[39mstartswith(\u001b[38;5;124m\"\u001b[39m\u001b[38;5;124mhttp\u001b[39m\u001b[38;5;124m\"\u001b[39m):\n\u001b[1;32m    246\u001b[0m     url \u001b[38;5;241m=\u001b[39m \u001b[38;5;28mself\u001b[39m\u001b[38;5;241m.\u001b[39mprefix \u001b[38;5;241m+\u001b[39m url\n\u001b[0;32m--> 247\u001b[0m headers \u001b[38;5;241m=\u001b[39m \u001b[38;5;28;43mself\u001b[39;49m\u001b[38;5;241;43m.\u001b[39;49m\u001b[43m_auth_headers\u001b[49m\u001b[43m(\u001b[49m\u001b[43m)\u001b[49m\n\u001b[1;32m    249\u001b[0m \u001b[38;5;28;01mif\u001b[39;00m \u001b[38;5;124m\"\u001b[39m\u001b[38;5;124mcontent_type\u001b[39m\u001b[38;5;124m\"\u001b[39m \u001b[38;5;129;01min\u001b[39;00m args[\u001b[38;5;124m\"\u001b[39m\u001b[38;5;124mparams\u001b[39m\u001b[38;5;124m\"\u001b[39m]:\n\u001b[1;32m    250\u001b[0m     headers[\u001b[38;5;124m\"\u001b[39m\u001b[38;5;124mContent-Type\u001b[39m\u001b[38;5;124m\"\u001b[39m] \u001b[38;5;241m=\u001b[39m args[\u001b[38;5;124m\"\u001b[39m\u001b[38;5;124mparams\u001b[39m\u001b[38;5;124m\"\u001b[39m][\u001b[38;5;124m\"\u001b[39m\u001b[38;5;124mcontent_type\u001b[39m\u001b[38;5;124m\"\u001b[39m]\n",
            "File \u001b[0;32m~/.pyenv/versions/lewagon/lib/python3.10/site-packages/spotipy/client.py:238\u001b[0m, in \u001b[0;36mSpotify._auth_headers\u001b[0;34m(self)\u001b[0m\n\u001b[1;32m    236\u001b[0m     \u001b[38;5;28;01mreturn\u001b[39;00m {}\n\u001b[1;32m    237\u001b[0m \u001b[38;5;28;01mtry\u001b[39;00m:\n\u001b[0;32m--> 238\u001b[0m     token \u001b[38;5;241m=\u001b[39m \u001b[38;5;28;43mself\u001b[39;49m\u001b[38;5;241;43m.\u001b[39;49m\u001b[43mauth_manager\u001b[49m\u001b[38;5;241;43m.\u001b[39;49m\u001b[43mget_access_token\u001b[49m\u001b[43m(\u001b[49m\u001b[43mas_dict\u001b[49m\u001b[38;5;241;43m=\u001b[39;49m\u001b[38;5;28;43;01mFalse\u001b[39;49;00m\u001b[43m)\u001b[49m\n\u001b[1;32m    239\u001b[0m \u001b[38;5;28;01mexcept\u001b[39;00m \u001b[38;5;167;01mTypeError\u001b[39;00m:\n\u001b[1;32m    240\u001b[0m     token \u001b[38;5;241m=\u001b[39m \u001b[38;5;28mself\u001b[39m\u001b[38;5;241m.\u001b[39mauth_manager\u001b[38;5;241m.\u001b[39mget_access_token()\n",
            "File \u001b[0;32m~/.pyenv/versions/lewagon/lib/python3.10/site-packages/spotipy/oauth2.py:525\u001b[0m, in \u001b[0;36mSpotifyOAuth.get_access_token\u001b[0;34m(self, code, as_dict, check_cache)\u001b[0m\n\u001b[1;32m    516\u001b[0m     warnings\u001b[38;5;241m.\u001b[39mwarn(\n\u001b[1;32m    517\u001b[0m         \u001b[38;5;124m\"\u001b[39m\u001b[38;5;124mYou\u001b[39m\u001b[38;5;124m'\u001b[39m\u001b[38;5;124mre using \u001b[39m\u001b[38;5;124m'\u001b[39m\u001b[38;5;124mas_dict = True\u001b[39m\u001b[38;5;124m'\u001b[39m\u001b[38;5;124m.\u001b[39m\u001b[38;5;124m\"\u001b[39m\n\u001b[1;32m    518\u001b[0m         \u001b[38;5;124m\"\u001b[39m\u001b[38;5;124mget_access_token will return the token string directly in future \u001b[39m\u001b[38;5;124m\"\u001b[39m\n\u001b[0;32m   (...)\u001b[0m\n\u001b[1;32m    522\u001b[0m         stacklevel\u001b[38;5;241m=\u001b[39m\u001b[38;5;241m2\u001b[39m,\n\u001b[1;32m    523\u001b[0m     )\n\u001b[1;32m    524\u001b[0m \u001b[38;5;28;01mif\u001b[39;00m check_cache:\n\u001b[0;32m--> 525\u001b[0m     token_info \u001b[38;5;241m=\u001b[39m \u001b[38;5;28;43mself\u001b[39;49m\u001b[38;5;241;43m.\u001b[39;49m\u001b[43mvalidate_token\u001b[49m\u001b[43m(\u001b[49m\u001b[38;5;28;43mself\u001b[39;49m\u001b[38;5;241;43m.\u001b[39;49m\u001b[43mcache_handler\u001b[49m\u001b[38;5;241;43m.\u001b[39;49m\u001b[43mget_cached_token\u001b[49m\u001b[43m(\u001b[49m\u001b[43m)\u001b[49m\u001b[43m)\u001b[49m\n\u001b[1;32m    526\u001b[0m     \u001b[38;5;28;01mif\u001b[39;00m token_info \u001b[38;5;129;01mis\u001b[39;00m \u001b[38;5;129;01mnot\u001b[39;00m \u001b[38;5;28;01mNone\u001b[39;00m:\n\u001b[1;32m    527\u001b[0m         \u001b[38;5;28;01mif\u001b[39;00m \u001b[38;5;28mself\u001b[39m\u001b[38;5;241m.\u001b[39mis_token_expired(token_info):\n",
            "File \u001b[0;32m~/.pyenv/versions/lewagon/lib/python3.10/site-packages/spotipy/oauth2.py:380\u001b[0m, in \u001b[0;36mSpotifyOAuth.validate_token\u001b[0;34m(self, token_info)\u001b[0m\n\u001b[1;32m    377\u001b[0m     \u001b[38;5;28;01mreturn\u001b[39;00m \u001b[38;5;28;01mNone\u001b[39;00m\n\u001b[1;32m    379\u001b[0m \u001b[38;5;28;01mif\u001b[39;00m \u001b[38;5;28mself\u001b[39m\u001b[38;5;241m.\u001b[39mis_token_expired(token_info):\n\u001b[0;32m--> 380\u001b[0m     token_info \u001b[38;5;241m=\u001b[39m \u001b[38;5;28;43mself\u001b[39;49m\u001b[38;5;241;43m.\u001b[39;49m\u001b[43mrefresh_access_token\u001b[49m\u001b[43m(\u001b[49m\n\u001b[1;32m    381\u001b[0m \u001b[43m        \u001b[49m\u001b[43mtoken_info\u001b[49m\u001b[43m[\u001b[49m\u001b[38;5;124;43m\"\u001b[39;49m\u001b[38;5;124;43mrefresh_token\u001b[39;49m\u001b[38;5;124;43m\"\u001b[39;49m\u001b[43m]\u001b[49m\n\u001b[1;32m    382\u001b[0m \u001b[43m    \u001b[49m\u001b[43m)\u001b[49m\n\u001b[1;32m    384\u001b[0m \u001b[38;5;28;01mreturn\u001b[39;00m token_info\n",
            "File \u001b[0;32m~/.pyenv/versions/lewagon/lib/python3.10/site-packages/spotipy/oauth2.py:596\u001b[0m, in \u001b[0;36mSpotifyOAuth.refresh_access_token\u001b[0;34m(self, refresh_token)\u001b[0m\n\u001b[1;32m    594\u001b[0m     \u001b[38;5;28;01mreturn\u001b[39;00m token_info\n\u001b[1;32m    595\u001b[0m \u001b[38;5;28;01mexcept\u001b[39;00m requests\u001b[38;5;241m.\u001b[39mexceptions\u001b[38;5;241m.\u001b[39mHTTPError \u001b[38;5;28;01mas\u001b[39;00m http_error:\n\u001b[0;32m--> 596\u001b[0m     \u001b[38;5;28;43mself\u001b[39;49m\u001b[38;5;241;43m.\u001b[39;49m\u001b[43m_handle_oauth_error\u001b[49m\u001b[43m(\u001b[49m\u001b[43mhttp_error\u001b[49m\u001b[43m)\u001b[49m\n",
            "File \u001b[0;32m~/.pyenv/versions/lewagon/lib/python3.10/site-packages/spotipy/oauth2.py:146\u001b[0m, in \u001b[0;36mSpotifyAuthBase._handle_oauth_error\u001b[0;34m(self, http_error)\u001b[0m\n\u001b[1;32m    143\u001b[0m     error \u001b[38;5;241m=\u001b[39m response\u001b[38;5;241m.\u001b[39mtext \u001b[38;5;129;01mor\u001b[39;00m \u001b[38;5;28;01mNone\u001b[39;00m\n\u001b[1;32m    144\u001b[0m     error_description \u001b[38;5;241m=\u001b[39m \u001b[38;5;28;01mNone\u001b[39;00m\n\u001b[0;32m--> 146\u001b[0m \u001b[38;5;28;01mraise\u001b[39;00m SpotifyOauthError(\n\u001b[1;32m    147\u001b[0m     \u001b[38;5;124m'\u001b[39m\u001b[38;5;124merror: \u001b[39m\u001b[38;5;132;01m{0}\u001b[39;00m\u001b[38;5;124m, error_description: \u001b[39m\u001b[38;5;132;01m{1}\u001b[39;00m\u001b[38;5;124m'\u001b[39m\u001b[38;5;241m.\u001b[39mformat(\n\u001b[1;32m    148\u001b[0m         error, error_description\n\u001b[1;32m    149\u001b[0m     ),\n\u001b[1;32m    150\u001b[0m     error\u001b[38;5;241m=\u001b[39merror,\n\u001b[1;32m    151\u001b[0m     error_description\u001b[38;5;241m=\u001b[39merror_description\n\u001b[1;32m    152\u001b[0m )\n",
            "\u001b[0;31mSpotifyOauthError\u001b[0m: error: invalid_client, error_description: Invalid client"
          ]
        }
      ],
      "source": [
        "# Retrieve a list of available devices\n",
        "from time import sleep as wait\n",
        "devices = sp.devices()\n",
        "print(devices)\n",
        "# If you are playing on local Spotify app on your PC:\n",
        "for device in devices['devices']:\n",
        "    #print('track id', track_info['id'])\n",
        "    if device['type'] == 'Computer':\n",
        "        #print(f'Running track {track_info[\"name\"]}')\n",
        "        print(f'on PC {device[\"name\"]}')\n",
        "\n",
        "        pc_device_id = device['id']\n",
        "        # Start playback on your local PC (device id) for a given track uri\n",
        "        sp.start_playback(uris = track_uris, device_id=pc_device_id)\n",
        "        print(\"Playback started on your PC.\")\n",
        "        wait(30) #we let it play for a while..\n",
        "        sp.pause_playback(device_id=pc_device_id) #..then turn it off\n",
        "        break\n",
        "    #could be expanded for Spotify web app if we wanted to"
      ]
    },
    {
      "cell_type": "code",
      "execution_count": null,
      "metadata": {},
      "outputs": [
        {
          "data": {
            "text/plain": [
              "\"track_uris = [track_info['uri'],\\n              track_info['uri']]\\ndevices = sp.devices()\\nprint(devices)\\n\\n\\n# Start playback with the list of URIs\\nsp.start_playback(uris=track_uris)\\n\""
            ]
          },
          "execution_count": 5,
          "metadata": {},
          "output_type": "execute_result"
        }
      ],
      "source": [
        "\"\"\"track_uris = [track_info['uri'],\n",
        "              track_info['uri']]\n",
        "devices = sp.devices()\n",
        "print(devices)\n",
        "\n",
        "\n",
        "# Start playback with the list of URIs\n",
        "sp.start_playback(uris=track_uris)\n",
        "\"\"\""
      ]
    }
  ],
  "metadata": {
    "colab": {
      "provenance": []
    },
    "kernelspec": {
      "display_name": "Python 3",
      "name": "python3"
    },
    "language_info": {
      "codemirror_mode": {
        "name": "ipython",
        "version": 3
      },
      "file_extension": ".py",
      "mimetype": "text/x-python",
      "name": "python",
      "nbconvert_exporter": "python",
      "pygments_lexer": "ipython3",
      "version": "3.10.6"
    }
  },
  "nbformat": 4,
  "nbformat_minor": 0
}
