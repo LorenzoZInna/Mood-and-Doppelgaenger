{
  "cells": [
    {
      "cell_type": "code",
      "execution_count": 11,
      "metadata": {
        "colab": {
          "base_uri": "https://localhost:8080/"
        },
        "id": "EcfaxBnheA-C",
        "outputId": "849ca0f4-6eda-4716-edc0-2adaa29d2445"
      },
      "outputs": [
        {
          "name": "stdout",
          "output_type": "stream",
          "text": [
            "Requirement already satisfied: spotipy in /home/lorezinn/.pyenv/versions/3.10.6/envs/lewagon/lib/python3.10/site-packages (2.23.0)\n",
            "Requirement already satisfied: redis>=3.5.3 in /home/lorezinn/.pyenv/versions/3.10.6/envs/lewagon/lib/python3.10/site-packages (from spotipy) (5.0.3)\n",
            "Requirement already satisfied: requests>=2.25.0 in /home/lorezinn/.pyenv/versions/3.10.6/envs/lewagon/lib/python3.10/site-packages (from spotipy) (2.28.1)\n",
            "Requirement already satisfied: six>=1.15.0 in /home/lorezinn/.pyenv/versions/3.10.6/envs/lewagon/lib/python3.10/site-packages (from spotipy) (1.16.0)\n",
            "Requirement already satisfied: urllib3>=1.26.0 in /home/lorezinn/.pyenv/versions/3.10.6/envs/lewagon/lib/python3.10/site-packages (from spotipy) (1.26.12)\n",
            "Requirement already satisfied: async-timeout>=4.0.3 in /home/lorezinn/.pyenv/versions/3.10.6/envs/lewagon/lib/python3.10/site-packages (from redis>=3.5.3->spotipy) (4.0.3)\n",
            "Requirement already satisfied: charset-normalizer<3,>=2 in /home/lorezinn/.pyenv/versions/3.10.6/envs/lewagon/lib/python3.10/site-packages (from requests>=2.25.0->spotipy) (2.1.1)\n",
            "Requirement already satisfied: idna<4,>=2.5 in /home/lorezinn/.pyenv/versions/3.10.6/envs/lewagon/lib/python3.10/site-packages (from requests>=2.25.0->spotipy) (3.4)\n",
            "Requirement already satisfied: certifi>=2017.4.17 in /home/lorezinn/.pyenv/versions/3.10.6/envs/lewagon/lib/python3.10/site-packages (from requests>=2.25.0->spotipy) (2022.9.24)\n"
          ]
        }
      ],
      "source": [
        "#we need the spotipy package to run this notebook\n",
        "!pip install spotipy"
      ]
    },
    {
      "cell_type": "code",
      "execution_count": 14,
      "metadata": {
        "id": "bZaaojnQLdm3"
      },
      "outputs": [
        {
          "name": "stderr",
          "output_type": "stream",
          "text": [
            "[35916:35944:0312/211809.703:ERROR:interface_endpoint_client.cc(707)] Message 0 rejected by interface blink.mojom.WidgetHost\n"
          ]
        },
        {
          "name": "stdout",
          "output_type": "stream",
          "text": [
            "{'display_name': 'Lorzinna', 'external_urls': {'spotify': 'https://open.spotify.com/user/312yptxfeo7lzzgqbxslai77sf4m'}, 'href': 'https://api.spotify.com/v1/users/312yptxfeo7lzzgqbxslai77sf4m', 'id': '312yptxfeo7lzzgqbxslai77sf4m', 'images': [], 'type': 'user', 'uri': 'spotify:user:312yptxfeo7lzzgqbxslai77sf4m', 'followers': {'href': None, 'total': 0}, 'email': 'lorzinna@gmail.com'}\n",
            "{'devices': [{'id': '7d1c7167a73de8620bf4874200615c4eadf70678', 'is_active': False, 'is_private_session': False, 'is_restricted': False, 'name': 'LORENZOPC', 'supports_volume': True, 'type': 'Computer', 'volume_percent': 94}]}\n"
          ]
        }
      ],
      "source": [
        "import spotipy\n",
        "from spotipy import Spotify\n",
        "from spotipy.oauth2 import SpotifyOAuth #needed for user authentication\n",
        "\n",
        "\n",
        "\n",
        "#we choose one of the available ports in the app\n",
        "REDIRECT_URI = 'http://localhost:5000/callback'\n",
        "\n",
        "#defines the permissions of the app - I selected all\n",
        "#as I did not want to have permissions denied.\n",
        "#I could go and trim it a bit if needed.\n",
        "\n",
        "# Initialize Spotipy with user authorization\n",
        "scope = 'playlist-modify-public playlist-read-private playlist-read-collaborative playlist-modify-private user-read-playback-state user-modify-playback-state user-read-currently-playing user-read-email user-read-currently-playing app-remote-control streaming '\n",
        "\n",
        "\n",
        "\n",
        "\n",
        "\n",
        "\n",
        "\n",
        "sp_auth = SpotifyOAuth(client_id = client_id,\n",
        "                       client_secret= client_secret,\n",
        "                       redirect_uri=REDIRECT_URI,\n",
        "                       scope=scope)\n",
        "\n",
        "sp = spotipy.Spotify(auth_manager=sp_auth)\n",
        "user_profile = sp.current_user()\n",
        "print(user_profile)\n",
        "user_info = sp.current_user()\n",
        "print(user_info)\n",
        "devices = sp.devices()\n",
        "print(devices)"
      ]
    },
    {
      "cell_type": "code",
      "execution_count": 15,
      "metadata": {
        "id": "d1KbgTzj4ZO8"
      },
      "outputs": [
        {
          "data": {
            "text/plain": [
              "{'album': {'album_type': 'album',\n",
              "  'artists': [{'external_urls': {'spotify': 'https://open.spotify.com/artist/0k17h0D3J5VfsdmQ1iZtE9'},\n",
              "    'href': 'https://api.spotify.com/v1/artists/0k17h0D3J5VfsdmQ1iZtE9',\n",
              "    'id': '0k17h0D3J5VfsdmQ1iZtE9',\n",
              "    'name': 'Pink Floyd',\n",
              "    'type': 'artist',\n",
              "    'uri': 'spotify:artist:0k17h0D3J5VfsdmQ1iZtE9'}],\n",
              "  'available_markets': [],\n",
              "  'external_urls': {'spotify': 'https://open.spotify.com/album/3a0UOgDWw2pTajw85QPMiz'},\n",
              "  'href': 'https://api.spotify.com/v1/albums/3a0UOgDWw2pTajw85QPMiz',\n",
              "  'id': '3a0UOgDWw2pTajw85QPMiz',\n",
              "  'images': [{'height': 640,\n",
              "    'url': 'https://i.scdn.co/image/ab67616d0000b27305d4eec40a828850aa8cd2f7',\n",
              "    'width': 640},\n",
              "   {'height': 300,\n",
              "    'url': 'https://i.scdn.co/image/ab67616d00001e0205d4eec40a828850aa8cd2f7',\n",
              "    'width': 300},\n",
              "   {'height': 64,\n",
              "    'url': 'https://i.scdn.co/image/ab67616d0000485105d4eec40a828850aa8cd2f7',\n",
              "    'width': 64}],\n",
              "  'name': 'The Dark Side Of The Moon (2011 Remastered Version)',\n",
              "  'release_date': '1973-03-16',\n",
              "  'release_date_precision': 'day',\n",
              "  'total_tracks': 20,\n",
              "  'type': 'album',\n",
              "  'uri': 'spotify:album:3a0UOgDWw2pTajw85QPMiz'},\n",
              " 'artists': [{'external_urls': {'spotify': 'https://open.spotify.com/artist/0k17h0D3J5VfsdmQ1iZtE9'},\n",
              "   'href': 'https://api.spotify.com/v1/artists/0k17h0D3J5VfsdmQ1iZtE9',\n",
              "   'id': '0k17h0D3J5VfsdmQ1iZtE9',\n",
              "   'name': 'Pink Floyd',\n",
              "   'type': 'artist',\n",
              "   'uri': 'spotify:artist:0k17h0D3J5VfsdmQ1iZtE9'}],\n",
              " 'available_markets': [],\n",
              " 'disc_number': 1,\n",
              " 'duration_ms': 65314,\n",
              " 'explicit': False,\n",
              " 'external_ids': {'isrc': 'GBN9Y1100076'},\n",
              " 'external_urls': {'spotify': 'https://open.spotify.com/track/6rqhFgbbKwnb9MLmUQDhG6'},\n",
              " 'href': 'https://api.spotify.com/v1/tracks/6rqhFgbbKwnb9MLmUQDhG6',\n",
              " 'id': '6rqhFgbbKwnb9MLmUQDhG6',\n",
              " 'is_local': False,\n",
              " 'name': 'Speak To Me - 2011 Remastered Version',\n",
              " 'popularity': 0,\n",
              " 'preview_url': None,\n",
              " 'track_number': 1,\n",
              " 'type': 'track',\n",
              " 'uri': 'spotify:track:6rqhFgbbKwnb9MLmUQDhG6'}"
            ]
          },
          "execution_count": 15,
          "metadata": {},
          "output_type": "execute_result"
        }
      ],
      "source": [
        "\n",
        "\n",
        "\"\"\"VITAL PART!!!! Integrate track uri from the rest of the project\"\"\"\n",
        "track_id ='6rqhFgbbKwnb9MLmUQDhG6'# Replace this with the URI of the track you want to play\n",
        "\"\"\"\"\"\"\n",
        "\n",
        "\n",
        "\n",
        "# Start playback with the list of URIs\n",
        "\n",
        "track_info=sp.track(track_id)\n",
        "#!!! IMPORTANT!!! NEEDS A LIST OF URIS TO PLAY!!! (must have more than 1)\n",
        "track_uris = [track_info['uri'],\n",
        "              track_info['uri']]\n",
        "track_info"
      ]
    },
    {
      "cell_type": "code",
      "execution_count": 18,
      "metadata": {},
      "outputs": [
        {
          "data": {
            "text/plain": [
              "{'display_name': 'Lorzinna',\n",
              " 'external_urls': {'spotify': 'https://open.spotify.com/user/312yptxfeo7lzzgqbxslai77sf4m'},\n",
              " 'href': 'https://api.spotify.com/v1/users/312yptxfeo7lzzgqbxslai77sf4m',\n",
              " 'id': '312yptxfeo7lzzgqbxslai77sf4m',\n",
              " 'images': [],\n",
              " 'type': 'user',\n",
              " 'uri': 'spotify:user:312yptxfeo7lzzgqbxslai77sf4m',\n",
              " 'followers': {'href': None, 'total': 0},\n",
              " 'email': 'lorzinna@gmail.com'}"
            ]
          },
          "execution_count": 18,
          "metadata": {},
          "output_type": "execute_result"
        }
      ],
      "source": []
    },
    {
      "cell_type": "code",
      "execution_count": 16,
      "metadata": {},
      "outputs": [
        {
          "name": "stdout",
          "output_type": "stream",
          "text": [
            "{'devices': [{'id': '7d1c7167a73de8620bf4874200615c4eadf70678', 'is_active': False, 'is_private_session': False, 'is_restricted': False, 'name': 'LORENZOPC', 'supports_volume': True, 'type': 'Computer', 'volume_percent': 94}]}\n",
            "on PC LORENZOPC\n",
            "Playback started on your PC.\n"
          ]
        }
      ],
      "source": [
        "# Retrieve a list of available devices\n",
        "from time import sleep as wait\n",
        "devices = sp.devices()\n",
        "print(devices)\n",
        "# If you are playing on local Spotify app on your PC:\n",
        "for device in devices['devices']:\n",
        "    #print('track id', track_info['id'])\n",
        "    if device['type'] == 'Computer':\n",
        "        #print(f'Running track {track_info[\"name\"]}')\n",
        "        print(f'on PC {device[\"name\"]}')\n",
        "\n",
        "        pc_device_id = device['id']\n",
        "        # Start playback on your local PC (device id) for a given track uri\n",
        "        sp.start_playback(uris = track_uris, device_id=pc_device_id)\n",
        "        print(\"Playback started on your PC.\")\n",
        "        wait(30) #we let it play for a while..\n",
        "        sp.pause_playback(device_id=pc_device_id) #..then turn it off\n",
        "        break\n",
        "    #could be expanded for Spotify web app if we wanted to"
      ]
    },
    {
      "cell_type": "code",
      "execution_count": null,
      "metadata": {},
      "outputs": [
        {
          "data": {
            "text/plain": [
              "\"track_uris = [track_info['uri'],\\n              track_info['uri']]\\ndevices = sp.devices()\\nprint(devices)\\n\\n\\n# Start playback with the list of URIs\\nsp.start_playback(uris=track_uris)\\n\""
            ]
          },
          "execution_count": 5,
          "metadata": {},
          "output_type": "execute_result"
        }
      ],
      "source": [
        "\"\"\"track_uris = [track_info['uri'],\n",
        "              track_info['uri']]\n",
        "devices = sp.devices()\n",
        "print(devices)\n",
        "\n",
        "\n",
        "# Start playback with the list of URIs\n",
        "sp.start_playback(uris=track_uris)\n",
        "\"\"\""
      ]
    }
  ],
  "metadata": {
    "colab": {
      "provenance": []
    },
    "kernelspec": {
      "display_name": "Python 3",
      "name": "python3"
    },
    "language_info": {
      "codemirror_mode": {
        "name": "ipython",
        "version": 3
      },
      "file_extension": ".py",
      "mimetype": "text/x-python",
      "name": "python",
      "nbconvert_exporter": "python",
      "pygments_lexer": "ipython3",
      "version": "3.10.6"
    }
  },
  "nbformat": 4,
  "nbformat_minor": 0
}
