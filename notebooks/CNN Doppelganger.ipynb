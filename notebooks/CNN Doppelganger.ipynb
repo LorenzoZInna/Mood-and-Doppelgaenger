{
 "cells": [
  {
   "cell_type": "code",
   "execution_count": 29,
   "id": "d85a78e8",
   "metadata": {},
   "outputs": [],
   "source": [
    "import os\n",
    "import numpy as np\n",
    "from sklearn.model_selection import train_test_split\n",
    "from tensorflow.keras.preprocessing.image import load_img, img_to_array\n",
    "from tensorflow.keras.utils import to_categorical\n",
    "from tensorflow.keras.models import Sequential\n",
    "from tensorflow.keras.layers import Flatten, Dense, Dropout\n",
    "from tensorflow.keras.applications import VGG16\n",
    "from tensorflow.keras.preprocessing.image import ImageDataGenerator\n",
    "from tensorflow.keras.optimizers import Adam"
   ]
  },
  {
   "cell_type": "code",
   "execution_count": 30,
   "id": "b6437620",
   "metadata": {},
   "outputs": [],
   "source": [
    "# Define paths to the datasets\n",
    "happy_dir = '/home/nil/code/Nil-Barcons/Happy Sad/data/happy'\n",
    "sad_dir = '/home/nil/code/Nil-Barcons/Happy Sad/data/sad'"
   ]
  },
  {
   "cell_type": "code",
   "execution_count": 31,
   "id": "e4eb6707",
   "metadata": {},
   "outputs": [],
   "source": [
    "# Combine happy and sad data\n",
    "X = np.array(happy_X + sad_X)\n",
    "y = np.array(happy_y + sad_y)"
   ]
  },
  {
   "cell_type": "code",
   "execution_count": 32,
   "id": "13866526",
   "metadata": {},
   "outputs": [],
   "source": [
    "# Split data into train and test sets\n",
    "X_train, X_test, y_train, y_test = train_test_split(X, y, test_size=0.2, random_state=42)\n"
   ]
  },
  {
   "cell_type": "code",
   "execution_count": 33,
   "id": "c249d9c1",
   "metadata": {},
   "outputs": [],
   "source": [
    "# Function to load and preprocess images from directory\n",
    "def load_images_from_dir(directory):\n",
    "    X = []\n",
    "    y = []\n",
    "    for filename in os.listdir(directory):\n",
    "        if filename.endswith('.jpg') or filename.endswith('.png'):\n",
    "            img = load_img(os.path.join(directory, filename), target_size=(150, 150))\n",
    "            img_array = img_to_array(img) / 255.0  # Normalize pixel values\n",
    "            X.append(img_array)\n",
    "            if directory == happy_dir:\n",
    "                y.append(0)  # Label 0 for happy\n",
    "            elif directory == sad_dir:\n",
    "                y.append(1)  # Label 1 for sad\n",
    "    return X, y"
   ]
  },
  {
   "cell_type": "code",
   "execution_count": 34,
   "id": "728c732f",
   "metadata": {},
   "outputs": [],
   "source": [
    "# Load and preprocess images from directories\n",
    "happy_X, happy_y = load_images_from_dir(happy_dir)\n",
    "sad_X, sad_y = load_images_from_dir(sad_dir)"
   ]
  },
  {
   "cell_type": "code",
   "execution_count": 35,
   "id": "68f18a41",
   "metadata": {},
   "outputs": [],
   "source": [
    "# Split data into train and test sets\n",
    "happy_X_train, happy_X_test, happy_y_train, happy_y_test = train_test_split(happy_X, happy_y, test_size=0.2, random_state=42)\n",
    "sad_X_train, sad_X_test, sad_y_train, sad_y_test = train_test_split(sad_X, sad_y, test_size=0.2, random_state=42)\n"
   ]
  },
  {
   "cell_type": "code",
   "execution_count": 36,
   "id": "c02dc311",
   "metadata": {},
   "outputs": [],
   "source": [
    "# Combine happy and sad data\n",
    "X_train = np.array(happy_X_train + sad_X_train)\n",
    "X_test = np.array(happy_X_test + sad_X_test)\n",
    "y_train = to_categorical(np.array(happy_y_train + sad_y_train))\n",
    "y_test = to_categorical(np.array(happy_y_test + sad_y_test))"
   ]
  },
  {
   "cell_type": "code",
   "execution_count": 37,
   "id": "0af918a4",
   "metadata": {},
   "outputs": [],
   "source": [
    "# Load pre-trained VGG16 model\n",
    "vgg16_base = VGG16(weights='imagenet',\n",
    "                   include_top=False,\n",
    "                   input_shape=(150, 150, 3))"
   ]
  },
  {
   "cell_type": "code",
   "execution_count": 38,
   "id": "b7cbb469",
   "metadata": {},
   "outputs": [],
   "source": [
    "# Freeze convolutional base\n",
    "vgg16_base.trainable = False"
   ]
  },
  {
   "cell_type": "code",
   "execution_count": 39,
   "id": "bf235cb6",
   "metadata": {},
   "outputs": [],
   "source": [
    "# Create new model on top of VGG16\n",
    "model = Sequential([\n",
    "    vgg16_base,\n",
    "    Flatten(),\n",
    "    Dense(256, activation='relu'),\n",
    "    Dropout(0.5),\n",
    "    Dense(2, activation='softmax')  # 2 classes: happy and sad\n",
    "])"
   ]
  },
  {
   "cell_type": "code",
   "execution_count": 40,
   "id": "b16ffa9d",
   "metadata": {},
   "outputs": [],
   "source": [
    "# Compile the model\n",
    "model.compile(optimizer='adam',\n",
    "              loss='categorical_crossentropy',\n",
    "              metrics=['accuracy'])"
   ]
  },
  {
   "cell_type": "code",
   "execution_count": 41,
   "id": "f8754b04",
   "metadata": {},
   "outputs": [
    {
     "name": "stdout",
     "output_type": "stream",
     "text": [
      "Epoch 1/20\n"
     ]
    },
    {
     "name": "stderr",
     "output_type": "stream",
     "text": [
      "2024-03-14 19:43:00.338067: W tensorflow/core/framework/cpu_allocator_impl.cc:82] Allocation of 652320000 exceeds 10% of free system memory.\n"
     ]
    },
    {
     "name": "stdout",
     "output_type": "stream",
     "text": [
      "76/76 [==============================] - 182s 2s/step - loss: 0.7969 - accuracy: 0.6428 - val_loss: 0.5160 - val_accuracy: 0.7421\n",
      "Epoch 2/20\n",
      "76/76 [==============================] - 172s 2s/step - loss: 0.4964 - accuracy: 0.7645 - val_loss: 0.4673 - val_accuracy: 0.7719\n",
      "Epoch 3/20\n",
      "76/76 [==============================] - 170s 2s/step - loss: 0.4473 - accuracy: 0.7922 - val_loss: 0.4379 - val_accuracy: 0.8017\n",
      "Epoch 4/20\n",
      "76/76 [==============================] - 174s 2s/step - loss: 0.3954 - accuracy: 0.8183 - val_loss: 0.4116 - val_accuracy: 0.8248\n",
      "Epoch 5/20\n",
      "76/76 [==============================] - 171s 2s/step - loss: 0.3646 - accuracy: 0.8423 - val_loss: 0.4715 - val_accuracy: 0.7884\n",
      "Epoch 6/20\n",
      "76/76 [==============================] - 173s 2s/step - loss: 0.3347 - accuracy: 0.8502 - val_loss: 0.4492 - val_accuracy: 0.8000\n",
      "Epoch 7/20\n",
      "76/76 [==============================] - 174s 2s/step - loss: 0.3211 - accuracy: 0.8535 - val_loss: 0.4071 - val_accuracy: 0.8165\n",
      "Epoch 8/20\n",
      "76/76 [==============================] - 171s 2s/step - loss: 0.2926 - accuracy: 0.8762 - val_loss: 0.3953 - val_accuracy: 0.8231\n",
      "Epoch 9/20\n",
      "76/76 [==============================] - 168s 2s/step - loss: 0.2855 - accuracy: 0.8738 - val_loss: 0.4196 - val_accuracy: 0.8215\n",
      "Epoch 10/20\n",
      "76/76 [==============================] - 169s 2s/step - loss: 0.2561 - accuracy: 0.8924 - val_loss: 0.3957 - val_accuracy: 0.8248\n",
      "Epoch 11/20\n",
      "76/76 [==============================] - 168s 2s/step - loss: 0.2467 - accuracy: 0.8945 - val_loss: 0.4197 - val_accuracy: 0.8215\n",
      "Epoch 12/20\n",
      "76/76 [==============================] - 166s 2s/step - loss: 0.2479 - accuracy: 0.8974 - val_loss: 0.4145 - val_accuracy: 0.8215\n",
      "Epoch 13/20\n",
      "76/76 [==============================] - 165s 2s/step - loss: 0.2401 - accuracy: 0.9023 - val_loss: 0.4058 - val_accuracy: 0.8248\n",
      "Epoch 14/20\n",
      "76/76 [==============================] - 174s 2s/step - loss: 0.2109 - accuracy: 0.9098 - val_loss: 0.4575 - val_accuracy: 0.8248\n",
      "Epoch 15/20\n",
      "76/76 [==============================] - 169s 2s/step - loss: 0.1719 - accuracy: 0.9325 - val_loss: 0.4904 - val_accuracy: 0.8099\n",
      "Epoch 16/20\n",
      "76/76 [==============================] - 169s 2s/step - loss: 0.2037 - accuracy: 0.9160 - val_loss: 0.4343 - val_accuracy: 0.8264\n",
      "Epoch 17/20\n",
      "76/76 [==============================] - 170s 2s/step - loss: 0.1689 - accuracy: 0.9346 - val_loss: 0.4561 - val_accuracy: 0.8165\n",
      "Epoch 18/20\n",
      "76/76 [==============================] - 170s 2s/step - loss: 0.1509 - accuracy: 0.9400 - val_loss: 0.4631 - val_accuracy: 0.8281\n",
      "Epoch 19/20\n",
      "76/76 [==============================] - 175s 2s/step - loss: 0.1546 - accuracy: 0.9396 - val_loss: 0.5002 - val_accuracy: 0.8314\n",
      "Epoch 20/20\n",
      "76/76 [==============================] - 168s 2s/step - loss: 0.1448 - accuracy: 0.9408 - val_loss: 0.5125 - val_accuracy: 0.8298\n"
     ]
    }
   ],
   "source": [
    "# Train the model\n",
    "history = model.fit(\n",
    "    X_train,\n",
    "    y_train,\n",
    "    epochs=20,\n",
    "    validation_data=(X_test, y_test)\n",
    ")"
   ]
  },
  {
   "cell_type": "code",
   "execution_count": 42,
   "id": "4c5aa21d",
   "metadata": {},
   "outputs": [],
   "source": [
    "# Data augmentation\n",
    "train_datagen = ImageDataGenerator(\n",
    "    rotation_range=20,\n",
    "    width_shift_range=0.1,\n",
    "    height_shift_range=0.1,\n",
    "    shear_range=0.1,\n",
    "    zoom_range=0.1,\n",
    "    horizontal_flip=True,\n",
    "    fill_mode='nearest'\n",
    ")\n",
    "\n",
    "train_datagen.fit(X_train)"
   ]
  },
  {
   "cell_type": "code",
   "execution_count": 43,
   "id": "6b0e4b4c",
   "metadata": {},
   "outputs": [
    {
     "name": "stderr",
     "output_type": "stream",
     "text": [
      "/home/nil/.pyenv/versions/3.10.6/envs/lewagon/lib/python3.10/site-packages/keras/optimizers/optimizer_v2/adam.py:114: UserWarning: The `lr` argument is deprecated, use `learning_rate` instead.\n",
      "  super().__init__(name, **kwargs)\n"
     ]
    }
   ],
   "source": [
    "# Compile the model\n",
    "model.compile(optimizer=Adam(lr=0.0001),\n",
    "              loss='binary_crossentropy',\n",
    "              metrics=['accuracy'])"
   ]
  },
  {
   "cell_type": "code",
   "execution_count": 44,
   "id": "e047b735",
   "metadata": {},
   "outputs": [
    {
     "name": "stdout",
     "output_type": "stream",
     "text": [
      "Epoch 1/30\n",
      "75/75 [==============================] - 170s 2s/step - loss: 0.4458 - accuracy: 0.8055 - val_loss: 0.4198 - val_accuracy: 0.8231\n",
      "Epoch 2/30\n",
      "75/75 [==============================] - 169s 2s/step - loss: 0.4029 - accuracy: 0.8373 - val_loss: 0.4328 - val_accuracy: 0.8033\n",
      "Epoch 3/30\n",
      "75/75 [==============================] - 165s 2s/step - loss: 0.4113 - accuracy: 0.8200 - val_loss: 0.4089 - val_accuracy: 0.8264\n",
      "Epoch 4/30\n",
      "75/75 [==============================] - 165s 2s/step - loss: 0.4023 - accuracy: 0.8204 - val_loss: 0.4142 - val_accuracy: 0.8231\n",
      "Epoch 5/30\n",
      "75/75 [==============================] - 165s 2s/step - loss: 0.4061 - accuracy: 0.8212 - val_loss: 0.4116 - val_accuracy: 0.8248\n",
      "Epoch 6/30\n",
      "75/75 [==============================] - 169s 2s/step - loss: 0.4006 - accuracy: 0.8253 - val_loss: 0.4019 - val_accuracy: 0.8380\n",
      "Epoch 7/30\n",
      "75/75 [==============================] - 174s 2s/step - loss: 0.3722 - accuracy: 0.8340 - val_loss: 0.4023 - val_accuracy: 0.8331\n",
      "Epoch 8/30\n",
      "75/75 [==============================] - 172s 2s/step - loss: 0.3980 - accuracy: 0.8278 - val_loss: 0.4128 - val_accuracy: 0.8231\n",
      "Epoch 9/30\n",
      "75/75 [==============================] - 172s 2s/step - loss: 0.3705 - accuracy: 0.8444 - val_loss: 0.3925 - val_accuracy: 0.8397\n",
      "Epoch 10/30\n",
      "75/75 [==============================] - 173s 2s/step - loss: 0.3770 - accuracy: 0.8278 - val_loss: 0.4178 - val_accuracy: 0.8165\n",
      "Epoch 11/30\n",
      "75/75 [==============================] - 172s 2s/step - loss: 0.3731 - accuracy: 0.8340 - val_loss: 0.4061 - val_accuracy: 0.8264\n",
      "Epoch 12/30\n",
      "75/75 [==============================] - 169s 2s/step - loss: 0.3691 - accuracy: 0.8357 - val_loss: 0.4042 - val_accuracy: 0.8298\n",
      "Epoch 13/30\n",
      "75/75 [==============================] - 165s 2s/step - loss: 0.3603 - accuracy: 0.8398 - val_loss: 0.3954 - val_accuracy: 0.8314\n",
      "Epoch 14/30\n",
      "75/75 [==============================] - 169s 2s/step - loss: 0.3761 - accuracy: 0.8415 - val_loss: 0.3972 - val_accuracy: 0.8380\n",
      "Epoch 15/30\n",
      "75/75 [==============================] - 178s 2s/step - loss: 0.3620 - accuracy: 0.8390 - val_loss: 0.3916 - val_accuracy: 0.8413\n",
      "Epoch 16/30\n",
      "75/75 [==============================] - 166s 2s/step - loss: 0.3560 - accuracy: 0.8473 - val_loss: 0.3945 - val_accuracy: 0.8380\n",
      "Epoch 17/30\n",
      "75/75 [==============================] - 170s 2s/step - loss: 0.3498 - accuracy: 0.8522 - val_loss: 0.3975 - val_accuracy: 0.8314\n",
      "Epoch 18/30\n",
      "75/75 [==============================] - 170s 2s/step - loss: 0.3400 - accuracy: 0.8489 - val_loss: 0.3933 - val_accuracy: 0.8281\n",
      "Epoch 19/30\n",
      "75/75 [==============================] - 179s 2s/step - loss: 0.3716 - accuracy: 0.8415 - val_loss: 0.3988 - val_accuracy: 0.8298\n",
      "Epoch 20/30\n",
      "75/75 [==============================] - 180s 2s/step - loss: 0.3532 - accuracy: 0.8460 - val_loss: 0.3987 - val_accuracy: 0.8248\n",
      "Epoch 21/30\n",
      "75/75 [==============================] - 178s 2s/step - loss: 0.3703 - accuracy: 0.8493 - val_loss: 0.3904 - val_accuracy: 0.8364\n",
      "Epoch 22/30\n",
      "75/75 [==============================] - 180s 2s/step - loss: 0.3482 - accuracy: 0.8469 - val_loss: 0.4006 - val_accuracy: 0.8331\n",
      "Epoch 23/30\n",
      "75/75 [==============================] - 178s 2s/step - loss: 0.3604 - accuracy: 0.8469 - val_loss: 0.3938 - val_accuracy: 0.8281\n",
      "Epoch 24/30\n",
      "75/75 [==============================] - 178s 2s/step - loss: 0.3499 - accuracy: 0.8531 - val_loss: 0.3927 - val_accuracy: 0.8347\n",
      "Epoch 25/30\n",
      "75/75 [==============================] - 178s 2s/step - loss: 0.3499 - accuracy: 0.8469 - val_loss: 0.3943 - val_accuracy: 0.8347\n",
      "Epoch 26/30\n",
      "75/75 [==============================] - 183s 2s/step - loss: 0.3508 - accuracy: 0.8481 - val_loss: 0.3938 - val_accuracy: 0.8264\n",
      "Epoch 27/30\n",
      "75/75 [==============================] - 181s 2s/step - loss: 0.3558 - accuracy: 0.8489 - val_loss: 0.3899 - val_accuracy: 0.8314\n",
      "Epoch 28/30\n",
      "75/75 [==============================] - 181s 2s/step - loss: 0.3342 - accuracy: 0.8584 - val_loss: 0.3963 - val_accuracy: 0.8314\n",
      "Epoch 29/30\n",
      "75/75 [==============================] - 179s 2s/step - loss: 0.3459 - accuracy: 0.8435 - val_loss: 0.3832 - val_accuracy: 0.8314\n",
      "Epoch 30/30\n",
      "75/75 [==============================] - 182s 2s/step - loss: 0.3288 - accuracy: 0.8634 - val_loss: 0.3950 - val_accuracy: 0.8314\n"
     ]
    }
   ],
   "source": [
    "# Train the model with data augmentation\n",
    "history = model.fit(\n",
    "    train_datagen.flow(X_train, y_train, batch_size=32),\n",
    "    steps_per_epoch=len(X_train) / 32,\n",
    "    epochs=30,\n",
    "    validation_data=(X_test, y_test)\n",
    ")"
   ]
  },
  {
   "cell_type": "code",
   "execution_count": 46,
   "id": "088d3d01",
   "metadata": {},
   "outputs": [
    {
     "name": "stdout",
     "output_type": "stream",
     "text": [
      "19/19 [==============================] - 42s 2s/step - loss: 0.3950 - accuracy: 0.8314\n",
      "Test accuracy: 0.831404983997345\n"
     ]
    }
   ],
   "source": [
    "# Evaluate the model\n",
    "test_loss, test_acc = model.evaluate(X_test, y_test)\n",
    "print('Test accuracy:', test_acc)"
   ]
  },
  {
   "cell_type": "code",
   "execution_count": null,
   "id": "806746d8",
   "metadata": {},
   "outputs": [],
   "source": []
  }
 ],
 "metadata": {
  "kernelspec": {
   "display_name": "Python 3 (ipykernel)",
   "language": "python",
   "name": "python3"
  },
  "language_info": {
   "codemirror_mode": {
    "name": "ipython",
    "version": 3
   },
   "file_extension": ".py",
   "mimetype": "text/x-python",
   "name": "python",
   "nbconvert_exporter": "python",
   "pygments_lexer": "ipython3",
   "version": "3.10.6"
  },
  "toc": {
   "base_numbering": 1,
   "nav_menu": {},
   "number_sections": true,
   "sideBar": true,
   "skip_h1_title": false,
   "title_cell": "Table of Contents",
   "title_sidebar": "Contents",
   "toc_cell": false,
   "toc_position": {},
   "toc_section_display": true,
   "toc_window_display": false
  }
 },
 "nbformat": 4,
 "nbformat_minor": 5
}
