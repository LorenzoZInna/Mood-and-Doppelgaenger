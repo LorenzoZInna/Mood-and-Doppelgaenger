{
 "cells": [
  {
   "cell_type": "code",
   "execution_count": 1,
   "metadata": {},
   "outputs": [],
   "source": [
    "#IMPORTS\n",
    "import random"
   ]
  },
  {
   "cell_type": "code",
   "execution_count": 2,
   "metadata": {},
   "outputs": [],
   "source": [
    "# Dictionary mapping emotions to lists of Spotify track IDs\n",
    "emotion_tracks = {\n",
    "    'happy': [\n",
    "        '0VjIjW4GlUZAMYd2vXMi3b', '3w3y8KPTfNeOKPiqUTakBh', '4uUG5RXrOk84mYEfFvj3cK', '4h9wh7iOZ0GGn8QVp4RAOB', '1zi7xx7UVEFkmKfv06H8x0',\n",
    "        '1mea3bSkSGXuIRvnydlB5b', '6UelLqGlWMcVH1E5c4H7lY', '7qiZfU4dY1lWllzX7mPBI3', '7JJmb5XwzOO8jgpou264Ml', '0ct6r3EGTcMLPtrXHDvVjc',\n",
    "        '3ZFTkvIE7kyPt6Nu3PEa7V', '7BqBn9nzAq8spo5e7cZ0dJ', '2tpWsVSb9UEmDRxAl1zhX1', '0FDzzruyVECATHXKHFs9eJ', '4cluDES4hQEUhmXj6TXkSo',\n",
    "        '4QNpBfC0zvjKqPJcyqBy9W', '4HlFJV71xXKIGcU3kRyttv', '2ENexcMEMsYk0rVJigVD3i', '0azC730Exh71aQlOt9Zj3y', '0HPD5WQqrq7wPWR7P7Dw1i',\n",
    "        '50nfwKoDiSYg8zOCREWAm5', '6UjZ1oYpXUOaEfCXsTnXiP', '6Kv8FqUL5oRtXnMQfMbK6e', '6l6HeuYUpl1VJjwcXUpCjz', '5kD9T7GForh8LnRz5ClbL8',\n",
    "        '3Af6QIoFMEqawYpaCP8tJ7', '4eXB5pavwlO3ejMypFgVsv', '6BZ3hhOkAIDGMGQNueZ5GG', '6vocnqTDG1lKO3orAp3LRR', '3bjBeyazbIgFgXYPoQK4UH',\n",
    "        '5zEJbVbOY5rRPTFD30PjfO', '0PgLNhpBCMx4d04FEP7q23', '3vZ3kW9o4v9bmb2b0o8PCg', '2jvdgmCVS2ztUWE5bIfxRb', '1nMMR4bAPJYvDcBciwOv2F',\n",
    "        '0ZpiNU0E1ILADs2ODMSKpA', '6F608N6iuoO3dReb1nCMmO', '5HpxjB5QM6Fx0N56mYA5l4', '3Wh4aB60udsy7qZPQgqTaT', '0CokSRCu5hZgP6XPoIz0iO',\n",
    "        '5jzma6gCzYtKB1DbEwFZKH', '4D6uG5THdO9tZpOPgKN7vu', '5vGlqQANWDKJFl0MBG3sg2', '19D3flTGGtzkHCtGVfG6qH', '3qHMlZfTQzGQVbzHf3GhwO',\n",
    "        '3MEa4GuewpYRUBAjk3c2ov', '4H2g0YX7AebFZJ3ylT3tCA', '1s26cVgDS5xoPWNHWBAHYu', '6Y2r6Qqw0zrDwXrIIwZ6T8', '3Er2q0jItcp8HIVYHEdrEr',\n",
    "        '1HHe0fGgrbBvGtPkIAv5K8', '44cJEtVQT2jNQV4jBYL8Tf', '7DnPf6MlOZbZgAVNEU7BZ3', '0cGHiaT4qUKMyfx5UOHw1T', '4SywM4HF3QltBCv7xRmqzJ',\n",
    "        '3PgzrQIulOiqsVk3Ckqzde', '5W83ErFkO3aKAIS1WMi6u0', '5HCyWlXZPP0y6Gqq8TgA20', '5KawlOMHjWeUjQtnuRs22c', '2Rk4JlNc2TPmZe2af99d45',\n",
    "        '5a6PD9k4poeA7cA54C18mE', '2RttW7RAu5nOAfq6YFvApB', '7lQWRAjyhTpCWFC0jmclT4', '1Yy5eDys3LWl8IAhRplp1R', '37KFiVtY5jNJEdyftDQrPb',\n",
    "        '0V6gREQL5ynP9eYZOvQh7M', '2QjOHCTQ1Jl3zawyYOpxh6', '3KPVQltGw9fId3cRLDCGtG', '2BcMwX1MPV6ZHP4tUT9uq6', '4lUmnwRybYH7mMzf16xB0y',\n",
    "        '3K9T8JWYrBShp4iIQUmO4M', '78WgTPUsFNLtCgKjIvARnA', '0PJIbOdMs3bd5AT8liULMQ', '0ppAGdFxr4NHGXlm4FzjOV', '7gq1OB2zB80u77Ly9W8r1r'\n",
    "    ],\n",
    "    'neutral': [\n",
    "        '1SadNNfKugUYlaXTZO9g7c', '2LeF018m9vGgIAirUuOgCr', '0WVVyFVPOK3ATwptxglXHZ', '043xe58AMUGPJgCnRJynj9', '1mANYloG5MWO9OYzt7pCu9',\n",
    "        '2uio4eJ81UkXTHGbK99ebr', '3HtEAL9JC5o1aaS0drr4fk', '7lQop4kJwVavS9JXVVZdiv', '6aJmkGMF1xcrcviZbn1n0R', '08PythMQ97nIacc0AdIdnP',\n",
    "        '2FWz4GoP0aTNym0kjLZ5gI', '7oXwwzULPtCZHT7eCkXxIC', '5iPB9VskHHAsEcpOf4dpxw', '5jnQVTGkb8rDOMbX6kOqFH', '0BBtNOB7ofrOJ9PLM74EQn',\n",
    "        '3S0NnkTIk3LbDoL8dUY1Tc', '4jGz7wyQknFLmTgvvNJyrE', '3vdpuNfchEDUQNOdtPB0FS', '0GdZ6vlb3nC8t5B5MP6TqP', '14BAmiynFdqR5mTp6yd6d9',\n",
    "        '1KuLyZWT9FbLsFGsi6LpXU', '6eQmbEMHQYPkRj44AWf04Q', '6VzShi66jALkxxTgCCCspZ', '0aYsYUlByBk66OJNHK9QxC', '0HoWhKBcNCjomwXVCg5Mcz',\n",
    "        '5iGa3KHzFg7CtCfpqqY0Cp', '6mCHWvDL7kXZdVhc8ovk0y', '2szpAFtTaGmAdXaXpfzHof', '0ghzP8Reit8lJhU85KLqzq', '2r20uyktL1iCiwXIBN19ok',\n",
    "        '1OmGQ1LqE8o3YQTRPKOMiC', '1M3aJGASviOoIwX6Ndh6sI', '3AulsDX9Fz7t1Iy9GB51pB', '5BpqczsIDRdI8Sjg3muSeB', '5cnwPn0MKDPnu2rUamIRgb',\n",
    "        '6QCZUHBxTk7Fa05l0RFhMn', '3UwfJUXOIYLhGElSoteZvE', '4YzZwV3CsUsT2orcj9yTUg', '5ORMaylKqIYBtAFedOVIXD', '6t0ihkmPbunxNnAzs45AZM',\n",
    "        '54Q1fME5hhgFWipi1SkTtU', '1dnSIg4ulPAEIWDmuWA5Cf', '3XxZiDTQflprBVjBFxG6qH', '66fThwu8rpOl0CDMLZzeTg', '4oikNLzA8VDnsEXrsiHQA9',\n",
    "        '3ctgxH0ZpE50qscnZYBY1H', '1TDDBPg0JCXBdq6kpnbOG0', '63q1ZAwIpU7IahDGxU7QZV', '0jaGw9MKg6t9z9wfzWAK0a', '3UWWuXut5dDfLA6gDL5H8S',\n",
    "        '5TC2wrYzGhhr1wO7BSsGOA', '5pbMjvDEHdFVRkxjNeaUFu', '5HiTU06li1OKrzNue6Vt4K', '0gDrjkBGC61kkPHJhKyctN', '0e7Zh5sczPvNV40Y9f5ujE',\n",
    "        '1AqN43ZIZzz74aAtnsovZ1', '1vwVgDd0EHURAjoTb2glnM', '0WZmg03i0vltH03r3pDuex', '1divZI9KtgP416oHCwBJE1', '7xJqP2LZrVpJhUR6ZukE9q',\n",
    "        '2SIG8r7jJLXc9Q3fAOUrwx', '18te6JAwwL6xrKnVgYgXvA', '5AColl6xt8Gnm8fNG05hO', '0AcP7ZjBbsoB2VVdPJfGOA', '5RTEnxaWcMizgabaUxWQ7K',\n",
    "        '0LgXKAaGOJBUgB1eiVQVzo', '0bnUDXvwi2s8924tLTDg3K', '2qLyo5FeWquE7HBUbcVnEy', '1ovZe7upcqycTuPFfOg6kB', '7MOCaEUbfGyq1K96umNVwJ',\n",
    "        '2DjZwbUsZeLL7qzyej7K0V', '1Jt24MPLz6fGXSCTlXTjzF', '7uo2L5FAja3pWIBa3HJVeC', '5WMA8AmXGff8wo450I3Ecn', '1z7PADWKXVsbEitOVLlC69',\n",
    "        '3PhzwF9SOkkMIoUSIxFtwo', '1mBtrVS6hLeqcVecvpAqBJ', '74eJR4gwG1ZmG4BFkbrOlA', '3iJVCCW5equhyyZcxrMABz', '3hUxzQpSfdDqwM3ZTFQY0K',\n",
    "        '24dotUzOINUEH3iTUlhDXX', '0YywjDvFudcaHG74NuWISy', '0gplL1WMoJ6iYaPgMCL0gX', '5hnGrTBaEsdukpDF6aZg8a', '4nyF5lmSziBAt7ESAUjpbx'\n",
    "    ],\n",
    "    'sad': [\n",
    "        '1ei3hzQmrgealgRKFxIcWn', '6wf7Yu7cxBSPrRlWeSeK0Q', '1Fid2jjqsHViMX6xNH70hE', '1odExI7RdWc4BT515LTAwj', '1XTY6rA7XQosc0ynkkE9kN',\n",
    "        '4Y9ZFT6aD1PfZJHLZXi9EQ', '3XloH0C8QYXgbYPmXlxf2x', '0YywjDvFudcaHG74NuWISy', '0gplL1WMoJ6iYaPgMCL0gX', '5hnGrTBaEsdukpDF6aZg8a',\n",
    "        '4nyF5lmSziBAt7ESAUjpbx', '4IhTXiZLKATmwhMZIb1GQN', '7nku4ywsysUidKcPiS4hIQ', '7l97ElWmIdVHWUaOeeU5ZC', '2Kqw2ECnErSCU9bxPSVgGx',\n",
    "        '6ErCfbbI9BG4bK2djjKUvH', '4KULAymBBJcPRpk1yO4dOG', '3Nl5OkkmS5DaBZvuYofpAt', '2TwdK6m9dTg2L8oKhZC7ZD', '3JvKfv6T31zO0ini8iNItO',\n",
    "        '7dDrR6vMK1JAwZZ5MIWgme', '4Skkx52Dh8yo4G1ijAEGs3', '7qqOrc0Uvpvl5NvoAPRGLE', '34dVuWyRUgApvlec3hlqic', '22UYp7aAy1XmIYZ1GsnJuB',\n",
    "        '4RL77hMWUq35NYnPLXBpih', '4xqrdfXkTW4T0RauPLv3WA', '3gdPwk2wyOXNRnTA1KXnEr', '0V9QY6NnXtAMwjltgMP0pl', '3vkCueOmm7xQDoJ17W1Pm3',\n",
    "        '6eI8B3QW20P68MCYMb4Etd', '68CijBYyD89CISS4vDLAaq', '5uu2OCGGrTRS1sIvlMgKwe', '5aXfGM7WVcqyAvqnL7k0y3', '7wB9sL81rFRGhRt6msZ9CV',\n",
    "        '1kuGVB7EU95pJObxwvfwKS', '7slfeXbuzr9RYXX6XS6Npi', '7CiDwKE62N6ey3LyG6s7xc', '7D0RhFcb3CrfPuTJ0obrod', '0otRX6Z89qKkHkQ9OqJpKt',\n",
    "        '6wpOHVSrinXhKqF4EBbpuS', '3rAZYyztPLBaQ7TTXdxk7m', '04zpnoSROKFTCfgkoPcZ5A', '3UrmjZcjcYP3zFUdfWOy46', '3t5o6aDBXWyNZiyFQylraq',\n",
    "        '3yMC1KsTwh0ceXdIe4QQAQ', '135Lf4Q0CzlMNfOxbEUsLH', '3jc0jdopFsv3dYz5uo8OCr', '3ZBeHiRJUj1vdiU8zzGPgb', '6gPPoRYJwCsoB2VVdPJfmo',\n",
    "        '5gukv8x9eP58gFy2OcZEBQ', '0gOz9JUXsaKVzLTSmFDtdo', '7MOCaEUbfGyq1K96umNVwJ', '2DjZwbUsZeLL7qzyej7K0V', '1Jt24MPLz6fGXSCTlXTjzF',\n",
    "        '7uo2L5FAja3pWIBa3HJVeC', '5WMA8AmXGff8wo450I3Ecn', '1z7PADWKXVsbEitOVLlC69', '3PhzwF9SOkkMIoUSIxFtwo', '1mBtrVS6hLeqcVecvpAqBJ',\n",
    "        '74eJR4gwG1ZmG4BFkbrOlA', '3iJVCCW5equhyyZcxrMABz', '3hUxzQpSfdDqwM3ZTFQY0K', '24dotUzOINUEH3iTUlhDXX', '0YywjDvFudcaHG74NuWISy',\n",
    "        '0gplL1WMoJ6iYaPgMCL0gX', '5hnGrTBaEsdukpDF6aZg8a', '4nyF5lmSziBAt7ESAUjpbx', '4IhTXiZLKATmwhMZIb1GQN', '7nku4ywsysUidKcPiS4hIQ',\n",
    "        '7l97ElWmIdVHWUaOeeU5ZC', '2Kqw2ECnErSCU9bxPSVgGx', '6ErCfbbI9BG4bK2djjKUvH', '4KULAymBBJcPRpk1yO4dOG', '3Nl5OkkmS5DaBZvuYofpAt'\n",
    "    ]\n",
    "}"
   ]
  },
  {
   "cell_type": "code",
   "execution_count": 3,
   "metadata": {},
   "outputs": [],
   "source": [
    "# Function to get the embed code for a random track based on the input emotion\n",
    "def get_random_track_embed_code(emotion):\n",
    "    if emotion not in emotion_tracks:\n",
    "        return \"Invalid emotion. Please choose 'sad', 'happy', or 'neutral'.\"\n",
    "\n",
    "    # Get a random track ID from the list corresponding to the emotion\n",
    "    track_id = random.choice(emotion_tracks[emotion])\n",
    "\n",
    "    # Generate the embed code for the track\n",
    "    embed_code = f'<iframe src=\"https://open.spotify.com/embed/track/{track_id}\" width=\"300\" height=\"380\" frameborder=\"0\" allowtransparency=\"true\" allow=\"encrypted-media\"></iframe>'\n",
    "\n",
    "    return embed_code"
   ]
  },
  {
   "cell_type": "code",
   "execution_count": 4,
   "metadata": {},
   "outputs": [
    {
     "name": "stdout",
     "output_type": "stream",
     "text": [
      "Requirement already satisfied: requests in /home/lorezinn/.pyenv/versions/3.10.6/envs/lewagon/lib/python3.10/site-packages (2.28.1)\n",
      "Requirement already satisfied: beautifulsoup4 in /home/lorezinn/.pyenv/versions/3.10.6/envs/lewagon/lib/python3.10/site-packages (4.11.1)\n",
      "Requirement already satisfied: charset-normalizer<3,>=2 in /home/lorezinn/.pyenv/versions/3.10.6/envs/lewagon/lib/python3.10/site-packages (from requests) (2.1.1)\n",
      "Requirement already satisfied: idna<4,>=2.5 in /home/lorezinn/.pyenv/versions/3.10.6/envs/lewagon/lib/python3.10/site-packages (from requests) (3.4)\n",
      "Requirement already satisfied: urllib3<1.27,>=1.21.1 in /home/lorezinn/.pyenv/versions/3.10.6/envs/lewagon/lib/python3.10/site-packages (from requests) (1.26.12)\n",
      "Requirement already satisfied: certifi>=2017.4.17 in /home/lorezinn/.pyenv/versions/3.10.6/envs/lewagon/lib/python3.10/site-packages (from requests) (2022.9.24)\n",
      "Requirement already satisfied: soupsieve>1.2 in /home/lorezinn/.pyenv/versions/3.10.6/envs/lewagon/lib/python3.10/site-packages (from beautifulsoup4) (2.3.2.post1)\n"
     ]
    }
   ],
   "source": [
    "!pip install requests beautifulsoup4"
   ]
  },
  {
   "cell_type": "code",
   "execution_count": 5,
   "metadata": {},
   "outputs": [
    {
     "name": "stdout",
     "output_type": "stream",
     "text": [
      "Sad Embed Code: <iframe src=\"https://open.spotify.com/embed/track/1z7PADWKXVsbEitOVLlC69\" width=\"300\" height=\"380\" frameborder=\"0\" allowtransparency=\"true\" allow=\"encrypted-media\"></iframe>\n",
      "Happy Embed Code: <iframe src=\"https://open.spotify.com/embed/track/6F608N6iuoO3dReb1nCMmO\" width=\"300\" height=\"380\" frameborder=\"0\" allowtransparency=\"true\" allow=\"encrypted-media\"></iframe>\n",
      "Neutral Embed Code: <iframe src=\"https://open.spotify.com/embed/track/0YywjDvFudcaHG74NuWISy\" width=\"300\" height=\"380\" frameborder=\"0\" allowtransparency=\"true\" allow=\"encrypted-media\"></iframe>\n"
     ]
    }
   ],
   "source": [
    "# Test 'sad' emotion\n",
    "from time import sleep as wait\n",
    "import webbrowser\n",
    "sad_embed_code = get_random_track_embed_code('sad')\n",
    "print(\"Sad Embed Code:\", sad_embed_code)\n",
    "\n",
    "\n",
    "# Test 'happy' emotion\n",
    "happy_embed_code = get_random_track_embed_code('happy')\n",
    "print(\"Happy Embed Code:\", happy_embed_code)\n",
    "\n",
    "# Test 'neutral' emotion\n",
    "neutral_embed_code = get_random_track_embed_code('neutral')\n",
    "print(\"Neutral Embed Code:\", neutral_embed_code)"
   ]
  },
  {
   "cell_type": "code",
   "execution_count": 6,
   "metadata": {},
   "outputs": [
    {
     "name": "stdout",
     "output_type": "stream",
     "text": [
      "<class 'str'>\n",
      "https://open.spotify.com/embed/track/1z7PADWKXVsbEitOVLlC69\"\n"
     ]
    },
    {
     "data": {
      "text/plain": [
       "True"
      ]
     },
     "execution_count": 6,
     "metadata": {},
     "output_type": "execute_result"
    }
   ],
   "source": [
    "print(type(sad_embed_code))\n",
    "import re\n",
    "\n",
    "def find_https_links(text):\n",
    "    # Regular expression to match HTTPS links\n",
    "    pattern = r\"https?://\\S+\"\n",
    "    # Find all matches in the text\n",
    "    matches = re.findall(pattern, text)\n",
    "    return matches\n",
    "\n",
    "print(find_https_links(sad_embed_code)[0])\n",
    "webbrowser.open(find_https_links(sad_embed_code)[0])\n",
    "\n",
    "#Hard block! Cannot open with normal script. It requires\n",
    "# Spotify Web Playback SDK play  Spotify embed link javascript\n"
   ]
  }
 ],
 "metadata": {
  "kernelspec": {
   "display_name": "project_doppelganger",
   "language": "python",
   "name": "python3"
  },
  "language_info": {
   "codemirror_mode": {
    "name": "ipython",
    "version": 3
   },
   "file_extension": ".py",
   "mimetype": "text/x-python",
   "name": "python",
   "nbconvert_exporter": "python",
   "pygments_lexer": "ipython3",
   "version": "3.10.6"
  }
 },
 "nbformat": 4,
 "nbformat_minor": 2
}
